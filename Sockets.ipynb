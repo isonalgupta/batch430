{
 "cells": [
  {
   "cell_type": "code",
   "execution_count": 2,
   "metadata": {},
   "outputs": [],
   "source": [
    "import socket"
   ]
  },
  {
   "cell_type": "code",
   "execution_count": 13,
   "metadata": {},
   "outputs": [
    {
     "name": "stdout",
     "output_type": "stream",
     "text": [
      "Server is ready to listen at ip 127.0.0.1 and port 1234\n",
      "<socket.socket fd=1224, family=AddressFamily.AF_INET, type=SocketKind.SOCK_STREAM, proto=0, laddr=('127.0.0.1', 1234), raddr=('127.0.0.1', 50747)>\n",
      "('127.0.0.1', 50747)\n"
     ]
    }
   ],
   "source": [
    "server = socket.socket(socket.AF_INET,socket.SOCK_STREAM)\n",
    "host=\"127.0.0.1\"\n",
    "#host = socket.gethostbyname(socket.gethostname())\n",
    "port = 1234\n",
    "\n",
    "server.bind((host,port))\n",
    "server.listen()\n",
    "print(\"Server is ready to listen at ip {} and port {}\".format(host,port))\n",
    "\n",
    "\n",
    "client,client_addr = server.accept()\n",
    "print(client)\n",
    "print(client_addr)\n",
    "\n",
    "path = client.recv(1024).decode().split()[1]\n",
    "#print(path)\n",
    "\n",
    "resp1 = \"\"\" HTTP 200 OK\n",
    "Content-Type : text/html\n",
    "\n",
    "\n",
    "\n",
    "<html>\n",
    "<head>\n",
    "</head>\n",
    "<body>\n",
    "<h1 style='color:blue'>Response for / </h1>\n",
    "</body>\n",
    "</html>\n",
    "\"\"\"\n",
    "\n",
    "\n",
    "resp2 = \"\"\" HTTP 200 OK\n",
    "Content-Type : text/html\n",
    "\n",
    "\n",
    "\n",
    "<html>\n",
    "<head>\n",
    "</head>\n",
    "<body>\n",
    "<h1 style='color:blue'>Response for /data </h1>\n",
    "</body>\n",
    "</html>\n",
    "\"\"\"\n",
    "\n",
    "resp3 = \"\"\" HTTP 200 OK\n",
    "Content-Type : text/html\n",
    "\n",
    "\n",
    "\n",
    "<html>\n",
    "<head>\n",
    "</head>\n",
    "<body>\n",
    "<h1 style='color:blue'>Response for nothing </h1>\n",
    "</body>\n",
    "</html>\n",
    "\"\"\"\n",
    "\n",
    "if path == \"/\":\n",
    "    client.send(resp1.encode())\n",
    "\n",
    "elif path == \"/data\":\n",
    "    client.send(resp2.encode())\n",
    "\n",
    "else:\n",
    "    client.send(resp3.encode())"
   ]
  },
  {
   "cell_type": "code",
   "execution_count": null,
   "metadata": {},
   "outputs": [],
   "source": []
  }
 ],
 "metadata": {
  "kernelspec": {
   "display_name": "Python 3",
   "language": "python",
   "name": "python3"
  },
  "language_info": {
   "codemirror_mode": {
    "name": "ipython",
    "version": 3
   },
   "file_extension": ".py",
   "mimetype": "text/x-python",
   "name": "python",
   "nbconvert_exporter": "python",
   "pygments_lexer": "ipython3",
   "version": "3.7.4"
  }
 },
 "nbformat": 4,
 "nbformat_minor": 2
}
