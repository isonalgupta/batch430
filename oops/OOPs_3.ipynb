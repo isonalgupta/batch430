{
 "cells": [
  {
   "cell_type": "code",
   "execution_count": 4,
   "metadata": {},
   "outputs": [],
   "source": [
    "class One:\n",
    "    def __init__(self):\n",
    "        pass"
   ]
  },
  {
   "cell_type": "code",
   "execution_count": 10,
   "metadata": {},
   "outputs": [],
   "source": [
    "obj = One()"
   ]
  },
  {
   "cell_type": "code",
   "execution_count": 6,
   "metadata": {},
   "outputs": [],
   "source": [
    "obj.x = 20"
   ]
  },
  {
   "cell_type": "code",
   "execution_count": 7,
   "metadata": {},
   "outputs": [],
   "source": [
    "def setvalue(self,x):\n",
    "    self.x = x"
   ]
  },
  {
   "cell_type": "code",
   "execution_count": 13,
   "metadata": {},
   "outputs": [],
   "source": [
    "One.setvalue = setvalue   #dynamic function #monkey patching"
   ]
  },
  {
   "cell_type": "code",
   "execution_count": 11,
   "metadata": {},
   "outputs": [],
   "source": [
    "obj.setvalue(20)"
   ]
  },
  {
   "cell_type": "code",
   "execution_count": 12,
   "metadata": {},
   "outputs": [
    {
     "data": {
      "text/plain": [
       "20"
      ]
     },
     "execution_count": 12,
     "metadata": {},
     "output_type": "execute_result"
    }
   ],
   "source": [
    "obj.x"
   ]
  },
  {
   "cell_type": "code",
   "execution_count": 14,
   "metadata": {},
   "outputs": [
    {
     "data": {
      "text/plain": [
       "mappingproxy({'__module__': '__main__',\n",
       "              '__init__': <function __main__.One.__init__(self)>,\n",
       "              '__dict__': <attribute '__dict__' of 'One' objects>,\n",
       "              '__weakref__': <attribute '__weakref__' of 'One' objects>,\n",
       "              '__doc__': None,\n",
       "              'setvalue': <function __main__.setvalue(self, x)>})"
      ]
     },
     "execution_count": 14,
     "metadata": {},
     "output_type": "execute_result"
    }
   ],
   "source": [
    "One.__dict__"
   ]
  },
  {
   "cell_type": "markdown",
   "metadata": {},
   "source": [
    "# Multiple"
   ]
  },
  {
   "cell_type": "code",
   "execution_count": 21,
   "metadata": {},
   "outputs": [],
   "source": [
    "class Parent1:\n",
    "    def __init__(self,name1):\n",
    "        self.name1 = name1\n",
    "        \n",
    "class Parent2:\n",
    "    def __init__(self,name2):\n",
    "        self.name2 = name2\n",
    "        \n",
    "class Child(Parent2,Parent1):\n",
    "    def __init__(self,pname1,pname2,cname):\n",
    "        super().__init__(pname1)\n",
    "        super().__init__(pname2)\n",
    "        self.cname = cname\n",
    "    \n",
    "    def show(self):\n",
    "        print(f\"Parent1 name is {self.pname1}\")\n",
    "        print(f\"Parent2 name is {self.pname2}\")\n",
    "        print(f\"Child name is {self.cname}\")"
   ]
  },
  {
   "cell_type": "code",
   "execution_count": 22,
   "metadata": {},
   "outputs": [],
   "source": [
    "obj = Child(\"Suman\",\"Anurag\",\"sunita\")"
   ]
  },
  {
   "cell_type": "code",
   "execution_count": 23,
   "metadata": {},
   "outputs": [
    {
     "ename": "AttributeError",
     "evalue": "'Child' object has no attribute 'name1'",
     "output_type": "error",
     "traceback": [
      "\u001b[1;31m---------------------------------------------------------------------\u001b[0m",
      "\u001b[1;31mAttributeError\u001b[0m                      Traceback (most recent call last)",
      "\u001b[1;32m<ipython-input-23-52d0b0f99216>\u001b[0m in \u001b[0;36m<module>\u001b[1;34m\u001b[0m\n\u001b[1;32m----> 1\u001b[1;33m \u001b[0mobj\u001b[0m\u001b[1;33m.\u001b[0m\u001b[0mname1\u001b[0m\u001b[1;33m\u001b[0m\u001b[1;33m\u001b[0m\u001b[0m\n\u001b[0m",
      "\u001b[1;31mAttributeError\u001b[0m: 'Child' object has no attribute 'name1'"
     ]
    }
   ],
   "source": [
    "obj.name1"
   ]
  },
  {
   "cell_type": "code",
   "execution_count": 24,
   "metadata": {},
   "outputs": [
    {
     "data": {
      "text/plain": [
       "'Anurag'"
      ]
     },
     "execution_count": 24,
     "metadata": {},
     "output_type": "execute_result"
    }
   ],
   "source": [
    "obj.name2"
   ]
  },
  {
   "cell_type": "code",
   "execution_count": 28,
   "metadata": {},
   "outputs": [],
   "source": [
    "class Parent1:\n",
    "    def __init__(self,name1):\n",
    "        self.name1 = name1\n",
    "        \n",
    "class Parent2:\n",
    "    def __init__(self,name2):\n",
    "        self.name2 = name2\n",
    "        \n",
    "class Child(Parent1,Parent2):\n",
    "    def __init__(self,pname1,pname2,cname):\n",
    "        Parent1.__init__(self,pname1)\n",
    "        Parent2.__init__(self,pname2)\n",
    "        self.cname = cname\n",
    "    \n",
    "    def show(self):\n",
    "        print(f\"Parent1 name is {self.name1}\")\n",
    "        print(f\"Parent2 name is {self.name2}\")\n",
    "        print(f\"Child name is {self.cname}\")"
   ]
  },
  {
   "cell_type": "code",
   "execution_count": 29,
   "metadata": {},
   "outputs": [],
   "source": [
    "c1 = Child(\"Sunita\",\"Anurag\",\"Anjali\")"
   ]
  },
  {
   "cell_type": "code",
   "execution_count": 30,
   "metadata": {},
   "outputs": [
    {
     "name": "stdout",
     "output_type": "stream",
     "text": [
      "Parent1 name is Sunita\n",
      "Parent2 name is Anurag\n",
      "Child name is Anjali\n"
     ]
    }
   ],
   "source": [
    "c1.show()"
   ]
  },
  {
   "cell_type": "markdown",
   "metadata": {},
   "source": [
    "# Multilevel"
   ]
  },
  {
   "cell_type": "code",
   "execution_count": 45,
   "metadata": {},
   "outputs": [],
   "source": [
    "class Grandparent:\n",
    "    def __init__(self,name,age):\n",
    "        self.name = name\n",
    "        self.age = age\n",
    "        \n",
    "class Parent(Grandparent):\n",
    "    def __init__(self,name1,name2,age1,age2):\n",
    "        super().__init__(name1,age1)\n",
    "        self.pname = name2\n",
    "        self.page = age2\n",
    "    \n",
    "    def show(self):\n",
    "        print(\"Parent name : {}\".format(self.pname))\n",
    "        print(\"Parent age : {}\".format(self.page))\n",
    "        \n",
    "class Child(Parent):\n",
    "    def __init__(self,name1,name2,name3,age1,age2,age3):\n",
    "        super().__init__(name1,name2,age1,age2)\n",
    "        self.cname = name3\n",
    "        self.cage = age3\n",
    "         \n",
    "    def show(self):    #overriding\n",
    "        print(\"Child name is : {}\".format(self.cname))\n",
    "        print(\"Child age is : {}\".format(self.cage))"
   ]
  },
  {
   "cell_type": "code",
   "execution_count": 46,
   "metadata": {},
   "outputs": [],
   "source": [
    "cobj = Child(\"grand\",\"parent\",\"child\",70,30,15)"
   ]
  },
  {
   "cell_type": "code",
   "execution_count": 47,
   "metadata": {},
   "outputs": [
    {
     "name": "stdout",
     "output_type": "stream",
     "text": [
      "Child name is : child\n",
      "Child age is : 15\n"
     ]
    }
   ],
   "source": [
    "cobj.show()"
   ]
  },
  {
   "cell_type": "code",
   "execution_count": 44,
   "metadata": {},
   "outputs": [
    {
     "name": "stdout",
     "output_type": "stream",
     "text": [
      "Child name is : child\n",
      "Child age is : 15\n"
     ]
    }
   ],
   "source": [
    "cobj.show()"
   ]
  },
  {
   "cell_type": "code",
   "execution_count": 48,
   "metadata": {},
   "outputs": [],
   "source": [
    "class Grandparent:\n",
    "    def __init__(self,name,age):\n",
    "        self.name = name\n",
    "        self.age = age\n",
    "        \n",
    "class Parent(Grandparent):\n",
    "    def __init__(self,name1,name2,age1,age2):\n",
    "        super().__init__(name1,age1)\n",
    "        self.pname = name2\n",
    "        self.page = age2\n",
    "    \n",
    "    def show1(self):\n",
    "        print(\"Parent name : {}\".format(self.pname))\n",
    "        print(\"Parent age : {}\".format(self.page))\n",
    "        \n",
    "class Child(Parent):\n",
    "    def __init__(self,name1,name2,name3,age1,age2,age3):\n",
    "        super().__init__(name1,name2,age1,age2)\n",
    "        self.cname = name3\n",
    "        self.cage = age3\n",
    "         \n",
    "    def show(self):    #overriding\n",
    "        print(\"Child name is : {}\".format(self.cname))\n",
    "        print(\"Child age is : {}\".format(self.cage))"
   ]
  },
  {
   "cell_type": "code",
   "execution_count": 49,
   "metadata": {},
   "outputs": [],
   "source": [
    "cobj = Child(\"grand\",\"parent\",\"child\",70,30,15)"
   ]
  },
  {
   "cell_type": "code",
   "execution_count": 50,
   "metadata": {},
   "outputs": [
    {
     "name": "stdout",
     "output_type": "stream",
     "text": [
      "Child name is : child\n",
      "Child age is : 15\n"
     ]
    }
   ],
   "source": [
    "cobj.show()"
   ]
  },
  {
   "cell_type": "code",
   "execution_count": 51,
   "metadata": {},
   "outputs": [
    {
     "name": "stdout",
     "output_type": "stream",
     "text": [
      "Parent name : parent\n",
      "Parent age : 30\n"
     ]
    }
   ],
   "source": [
    "cobj.show1()"
   ]
  },
  {
   "cell_type": "markdown",
   "metadata": {},
   "source": [
    "# Heirarchical"
   ]
  },
  {
   "cell_type": "code",
   "execution_count": 52,
   "metadata": {},
   "outputs": [],
   "source": [
    "class Parent:\n",
    "    def __init__(self,name):\n",
    "        self.name = name\n",
    "        \n",
    "class Child1(Parent):\n",
    "    def __init__(self,pname,cname):\n",
    "        super().__init__(pname)\n",
    "        self.cname = cname\n",
    "    \n",
    "    def show(self):\n",
    "        print(\"My parent name is : {}\".format(self.name))\n",
    "        print(\"My child name is : {}\".format(self.cname))\n",
    "        \n",
    "class Child2(Parent):\n",
    "    def __init__(self,pname,cname):\n",
    "        super().__init__(pname)\n",
    "        self.cname = cname\n",
    "\n",
    "    def show(self):\n",
    "        print(\"My parent name is : {}\".format(self.name))\n",
    "        print(\"My child name is : {}\".format(self.cname))"
   ]
  },
  {
   "cell_type": "code",
   "execution_count": 53,
   "metadata": {},
   "outputs": [],
   "source": [
    "cobj1 = Child1(\"Ramesh Sharma\",\"Hitesh Sharma\")\n",
    "cobj2 = Child2(\"Ranbir Kapoor\",\"Deepika Kapoor\")"
   ]
  },
  {
   "cell_type": "code",
   "execution_count": 54,
   "metadata": {},
   "outputs": [
    {
     "name": "stdout",
     "output_type": "stream",
     "text": [
      "My parent name is : Ramesh Sharma\n",
      "My child name is : Hitesh Sharma\n"
     ]
    }
   ],
   "source": [
    "cobj1.show()"
   ]
  },
  {
   "cell_type": "code",
   "execution_count": 55,
   "metadata": {},
   "outputs": [
    {
     "name": "stdout",
     "output_type": "stream",
     "text": [
      "My parent name is : Ranbir Kapoor\n",
      "My child name is : Deepika Kapoor\n"
     ]
    }
   ],
   "source": [
    "cobj2.show()"
   ]
  },
  {
   "cell_type": "code",
   "execution_count": 6,
   "metadata": {},
   "outputs": [],
   "source": [
    "class One:\n",
    "    def __init__(self,name):\n",
    "        self.name = name\n",
    "        \n",
    "    def __str__(self):\n",
    "        return f\"{self.name}\""
   ]
  },
  {
   "cell_type": "code",
   "execution_count": 7,
   "metadata": {},
   "outputs": [],
   "source": [
    "obj = One(\"simran\")"
   ]
  },
  {
   "cell_type": "code",
   "execution_count": 8,
   "metadata": {},
   "outputs": [
    {
     "name": "stdout",
     "output_type": "stream",
     "text": [
      "simran\n"
     ]
    }
   ],
   "source": [
    "print(obj)"
   ]
  },
  {
   "cell_type": "code",
   "execution_count": null,
   "metadata": {},
   "outputs": [],
   "source": []
  }
 ],
 "metadata": {
  "kernelspec": {
   "display_name": "Python 3",
   "language": "python",
   "name": "python3"
  },
  "language_info": {
   "codemirror_mode": {
    "name": "ipython",
    "version": 3
   },
   "file_extension": ".py",
   "mimetype": "text/x-python",
   "name": "python",
   "nbconvert_exporter": "python",
   "pygments_lexer": "ipython3",
   "version": "3.7.5"
  }
 },
 "nbformat": 4,
 "nbformat_minor": 2
}
